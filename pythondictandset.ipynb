{
 "cells": [
  {
   "cell_type": "markdown",
   "metadata": {},
   "source": [
    "# Dict"
   ]
  },
  {
   "cell_type": "markdown",
   "metadata": {},
   "source": [
    "## Dict\n",
    "A python dict is a built-in ***container*** (object that contains other objects) that supports key lookup.\n",
    "A dict is defined as a set of key, value pairs.\n",
    "\n",
    "As of python 3.7, dictionaries maintain insertion order. I'm not there yet, so in this presentation, the order is not defined."
   ]
  },
  {
   "cell_type": "code",
   "execution_count": 1,
   "metadata": {},
   "outputs": [
    {
     "data": {
      "text/plain": [
       "(2, 1, 4)"
      ]
     },
     "execution_count": 1,
     "metadata": {},
     "output_type": "execute_result"
    }
   ],
   "source": [
    "# Example\n",
    "d1 = {'a':1, 'b':2, 'c':3, 4:4}\n",
    "# Notice that the keys didn't have to be of the same type.\n",
    "d1['b'], d1['a'], d1[4]"
   ]
  },
  {
   "cell_type": "code",
   "execution_count": 2,
   "metadata": {},
   "outputs": [
    {
     "ename": "KeyError",
     "evalue": "'x'",
     "output_type": "error",
     "traceback": [
      "\u001b[0;31m---------------------------------------------------------------------------\u001b[0m",
      "\u001b[0;31mKeyError\u001b[0m                                  Traceback (most recent call last)",
      "\u001b[0;32m<ipython-input-2-64453a4dd46c>\u001b[0m in \u001b[0;36m<module>\u001b[0;34m()\u001b[0m\n\u001b[1;32m      1\u001b[0m \u001b[0;31m# If the key is not in the dict, you get an exception\u001b[0m\u001b[0;34m\u001b[0m\u001b[0;34m\u001b[0m\u001b[0m\n\u001b[0;32m----> 2\u001b[0;31m \u001b[0md1\u001b[0m\u001b[0;34m[\u001b[0m\u001b[0;34m'x'\u001b[0m\u001b[0;34m]\u001b[0m\u001b[0;34m\u001b[0m\u001b[0m\n\u001b[0m",
      "\u001b[0;31mKeyError\u001b[0m: 'x'"
     ]
    }
   ],
   "source": [
    "# If the key is not in the dict, you get an exception\n",
    "d1['x']"
   ]
  },
  {
   "cell_type": "code",
   "execution_count": 3,
   "metadata": {},
   "outputs": [
    {
     "data": {
      "text/plain": [
       "({'dont': 2, 'need': 3, 'quoting': 4, 'these': 1},\n",
       " {'additional': 5, 'dont': 2, 'keys': 6, 'need': 3, 'quoting': 4, 'these': 1},\n",
       " {1: 'one', 2: 'two', 3: 'three', 'another': 'ok'},\n",
       " {'a': 1, 'b': 1, 'c': 1, 'd': 1, 'e': 1, 'f': 1},\n",
       " [('pairs', 'in braces'), ('key', 'value'), ('list', 'of')])"
      ]
     },
     "execution_count": 3,
     "metadata": {},
     "output_type": "execute_result"
    }
   ],
   "source": [
    "# dicts can be created and initialized in a few ways:\n",
    "\n",
    "# Braces enclosing comma-separated list of key:value pairs\n",
    "dict1 = {'list':'of', 'key':'value', 'pairs':'in braces'}\n",
    "\n",
    "# dict constructor with key word arguments\n",
    "dict2 = dict(these=1, dont=2, need=3, quoting=4)\n",
    "\n",
    "# dict constructor from another mapping and optional keyword arguments\n",
    "dict3 = dict(dict2, additional=5, keys=6)\n",
    "dict3a = dict(dict3)\n",
    "\n",
    "#dict constructor from iterable with iterable pairs and optional keyword arguments\n",
    "pairs = [(1,'one'), (2,'two'), (3,'three')]\n",
    "dict4 = dict(pairs, another='ok')\n",
    "\n",
    "# Initialize a new dict with constant values\n",
    "dict5 = dict.fromkeys(\"abcdef\", 1)\n",
    "\n",
    "dict2, dict3, dict4, dict5, list(dict1.items()),\n",
    "\n",
    "#Note that dicts do not maintain the original order"
   ]
  },
  {
   "cell_type": "code",
   "execution_count": 4,
   "metadata": {},
   "outputs": [
    {
     "data": {
      "text/plain": [
       "(False, True)"
      ]
     },
     "execution_count": 4,
     "metadata": {},
     "output_type": "execute_result"
    }
   ],
   "source": [
    "# You can compare dictionaries\n",
    "dict3 == dict4, dict3 == dict3a"
   ]
  },
  {
   "cell_type": "code",
   "execution_count": 5,
   "metadata": {},
   "outputs": [
    {
     "ename": "SyntaxError",
     "evalue": "invalid syntax (<ipython-input-5-a73557c10fb0>, line 2)",
     "output_type": "error",
     "traceback": [
      "\u001b[0;36m  File \u001b[0;32m\"<ipython-input-5-a73557c10fb0>\"\u001b[0;36m, line \u001b[0;32m2\u001b[0m\n\u001b[0;31m    dict1 = dict(for='a')\u001b[0m\n\u001b[0m                   ^\u001b[0m\n\u001b[0;31mSyntaxError\u001b[0m\u001b[0;31m:\u001b[0m invalid syntax\n"
     ]
    }
   ],
   "source": [
    "# initializing with keyword arguments requires valid python identifiers\n",
    "dict1 = dict(for='a')"
   ]
  },
  {
   "cell_type": "code",
   "execution_count": 6,
   "metadata": {},
   "outputs": [
    {
     "name": "stdout",
     "output_type": "stream",
     "text": [
      "Sally\n",
      "Brad\n",
      "Dave\n",
      "Tom\n",
      "Mike\n"
     ]
    }
   ],
   "source": [
    "dict2 = dict(Mike=1, Dave=2, Brad=3, Tom=None, Sally=[1,2,3])\n",
    "#You can iterate over a dict \n",
    "for a in dict2:\n",
    "    print(a)"
   ]
  },
  {
   "cell_type": "code",
   "execution_count": 7,
   "metadata": {},
   "outputs": [
    {
     "name": "stdout",
     "output_type": "stream",
     "text": [
      "[1, 2, 3]\n",
      "3\n",
      "2\n",
      "None\n",
      "1\n"
     ]
    }
   ],
   "source": [
    "# over the values in the dict\n",
    "for val in dict2.values():\n",
    "    print(val)"
   ]
  },
  {
   "cell_type": "code",
   "execution_count": 9,
   "metadata": {},
   "outputs": [
    {
     "name": "stdout",
     "output_type": "stream",
     "text": [
      "Key = Sally, Value=[1, 2, 3]\n",
      "Key = Brad, Value=3\n",
      "Key = Dave, Value=2\n",
      "Key = Tom, Value=None\n",
      "Key = Mike, Value=1\n"
     ]
    },
    {
     "data": {
      "text/plain": [
       "dict_items"
      ]
     },
     "execution_count": 9,
     "metadata": {},
     "output_type": "execute_result"
    }
   ],
   "source": [
    "# Or both \n",
    "for key, val in dict2.items():\n",
    "    print(\"Key = {}, Value={}\".format(key, val,))\n",
    "type(dict2.items())"
   ]
  },
  {
   "cell_type": "code",
   "execution_count": 10,
   "metadata": {},
   "outputs": [
    {
     "data": {
      "text/plain": [
       "5"
      ]
     },
     "execution_count": 10,
     "metadata": {},
     "output_type": "execute_result"
    }
   ],
   "source": [
    "# Dicts support len\n",
    "len(dict2)"
   ]
  },
  {
   "cell_type": "code",
   "execution_count": 11,
   "metadata": {},
   "outputs": [
    {
     "data": {
      "text/plain": [
       "(True, False)"
      ]
     },
     "execution_count": 11,
     "metadata": {},
     "output_type": "execute_result"
    }
   ],
   "source": [
    "#You can check if a key is in the dict\n",
    "'Sally' in dict2, 'Sue' in dict2"
   ]
  },
  {
   "cell_type": "code",
   "execution_count": 12,
   "metadata": {},
   "outputs": [
    {
     "data": {
      "text/plain": [
       "(False, True)"
      ]
     },
     "execution_count": 12,
     "metadata": {},
     "output_type": "execute_result"
    }
   ],
   "source": [
    "# or if they are not\n",
    "\"Mike\" not in dict2, \"Eric\" not in dict2"
   ]
  },
  {
   "cell_type": "code",
   "execution_count": 13,
   "metadata": {},
   "outputs": [
    {
     "data": {
      "text/plain": [
       "{'Brad': 3, 'Dave': 2, 'Mike': 1, 'Sally': [1, 2, 3], 'Tom': None}"
      ]
     },
     "execution_count": 13,
     "metadata": {},
     "output_type": "execute_result"
    }
   ],
   "source": [
    "dict2"
   ]
  },
  {
   "cell_type": "code",
   "execution_count": 14,
   "metadata": {},
   "outputs": [
    {
     "name": "stdout",
     "output_type": "stream",
     "text": [
      "{'Mike': 1, 'new': 'not here before', 'Tom': None, 'Sally': [1, 4, 3], 'Brad': 3, 'Dave': 2}\n",
      "Mike in dict2:True\n",
      "Mike in dict2:False\n"
     ]
    }
   ],
   "source": [
    "# You can set a new value or delete a value (and do a shallow copy of a dict)\n",
    "saved = dict.copy(dict2)\n",
    "dict2['Sally'][1]=4\n",
    "dict2['new'] = \"not here before\"\n",
    "print(dict2)\n",
    "print(\"Mike in dict2:{}\".format('Mike' in dict2))\n",
    "del dict2['Mike']\n",
    "print(\"Mike in dict2:{}\".format('Mike' in dict2))"
   ]
  },
  {
   "cell_type": "code",
   "execution_count": 15,
   "metadata": {},
   "outputs": [
    {
     "data": {
      "text/plain": [
       "{}"
      ]
     },
     "execution_count": 15,
     "metadata": {},
     "output_type": "execute_result"
    }
   ],
   "source": [
    "# Clear the whole dict\n",
    "dict.clear(dict2)\n",
    "dict2"
   ]
  },
  {
   "cell_type": "code",
   "execution_count": 18,
   "metadata": {},
   "outputs": [
    {
     "name": "stdout",
     "output_type": "stream",
     "text": [
      "{'Sally': [1, 4, 3], 'Brad': 3, 'Dave': 2, 'Tom': None, 'Mike': 1}\n",
      "{'Sally': [1, 4, 3], 'Brad': 3, 'Dave': 2, 'Tom': None, 'Mike': 1}\n"
     ]
    },
    {
     "data": {
      "text/plain": [
       "{'Brad': 3, 'Dave': 2, 'John': 19, 'Mike': 1, 'Sally': [1, 4, 3], 'Tom': None}"
      ]
     },
     "execution_count": 18,
     "metadata": {},
     "output_type": "execute_result"
    }
   ],
   "source": [
    "# Get the value for a key, if it exists, otherwise a default\n",
    "dict2 = dict.copy(saved)\n",
    "# Note that deeper elements of dict where changed after copy\n",
    "print(saved)\n",
    "print(dict2)\n",
    "# get with default value\n",
    "dict2.get('Mike', 12), dict2.get('Terry', 12)\n",
    "dict2.setdefault('John', 19)\n",
    "dict2"
   ]
  },
  {
   "cell_type": "code",
   "execution_count": 19,
   "metadata": {},
   "outputs": [
    {
     "data": {
      "text/plain": [
       "(1, {'Brad': 3, 'Dave': 2, 'John': 19, 'Sally': [1, 4, 3], 'Tom': None})"
      ]
     },
     "execution_count": 19,
     "metadata": {},
     "output_type": "execute_result"
    }
   ],
   "source": [
    "# Return a single element\n",
    "val = dict2.pop('Mike')\n",
    "val, dict2"
   ]
  },
  {
   "cell_type": "code",
   "execution_count": 20,
   "metadata": {},
   "outputs": [
    {
     "data": {
      "text/plain": [
       "{'Brad': 3,\n",
       " 'Dave': 2,\n",
       " 'John': 19,\n",
       " 'Sally': [1, 4, 3],\n",
       " 'Tom': None,\n",
       " 'additional': 5,\n",
       " 'dont': 2,\n",
       " 'keys': 6,\n",
       " 'need': 3,\n",
       " 'quoting': 4,\n",
       " 'these': 1}"
      ]
     },
     "execution_count": 20,
     "metadata": {},
     "output_type": "execute_result"
    }
   ],
   "source": [
    "# Update from another dictionary\n",
    "dict2.update(dict3)\n",
    "dict2"
   ]
  },
  {
   "cell_type": "markdown",
   "metadata": {},
   "source": [
    "### Dictionary Views\n",
    "Results from keys, values, and items are dictionary view objects, which stay in sync with their dictionary. If you change the dictionary, the view changes as well. Dictionary view objects are iterable, and support membership tests"
   ]
  },
  {
   "cell_type": "code",
   "execution_count": 21,
   "metadata": {},
   "outputs": [
    {
     "data": {
      "text/plain": [
       "(['bacon', 'spam'], [1, 500])"
      ]
     },
     "execution_count": 21,
     "metadata": {},
     "output_type": "execute_result"
    }
   ],
   "source": [
    "dishes = {'eggs': 2, 'sausage': 1, 'bacon': 1, 'spam': 500}\n",
    "keys = dishes.keys()\n",
    "values = dishes.values()\n",
    "\n",
    "del dishes['eggs']\n",
    "del dishes['sausage']\n",
    "list(keys), list(values)"
   ]
  },
  {
   "cell_type": "code",
   "execution_count": 23,
   "metadata": {},
   "outputs": [
    {
     "ename": "RuntimeError",
     "evalue": "dictionary changed size during iteration",
     "output_type": "error",
     "traceback": [
      "\u001b[0;31m---------------------------------------------------------------------------\u001b[0m",
      "\u001b[0;31mRuntimeError\u001b[0m                              Traceback (most recent call last)",
      "\u001b[0;32m<ipython-input-23-38231115f52a>\u001b[0m in \u001b[0;36m<module>\u001b[0;34m()\u001b[0m\n\u001b[1;32m      1\u001b[0m \u001b[0mtestdict\u001b[0m \u001b[0;34m=\u001b[0m \u001b[0mdict\u001b[0m\u001b[0;34m(\u001b[0m\u001b[0mone\u001b[0m\u001b[0;34m=\u001b[0m\u001b[0;36m1\u001b[0m\u001b[0;34m,\u001b[0m \u001b[0mtwo\u001b[0m\u001b[0;34m=\u001b[0m\u001b[0;36m2\u001b[0m\u001b[0;34m,\u001b[0m \u001b[0mthree\u001b[0m\u001b[0;34m=\u001b[0m\u001b[0;36m3\u001b[0m\u001b[0;34m,\u001b[0m \u001b[0mfour\u001b[0m\u001b[0;34m=\u001b[0m\u001b[0;36m4\u001b[0m\u001b[0;34m,\u001b[0m \u001b[0mfive\u001b[0m\u001b[0;34m=\u001b[0m\u001b[0;36m5\u001b[0m\u001b[0;34m,\u001b[0m \u001b[0msix\u001b[0m\u001b[0;34m=\u001b[0m\u001b[0;36m6\u001b[0m\u001b[0;34m,\u001b[0m \u001b[0mseven\u001b[0m\u001b[0;34m=\u001b[0m\u001b[0;36m7\u001b[0m\u001b[0;34m)\u001b[0m\u001b[0;34m\u001b[0m\u001b[0m\n\u001b[0;32m----> 2\u001b[0;31m \u001b[0;32mfor\u001b[0m \u001b[0mx\u001b[0m\u001b[0;34m,\u001b[0m\u001b[0my\u001b[0m \u001b[0;32min\u001b[0m \u001b[0mtestdict\u001b[0m\u001b[0;34m.\u001b[0m\u001b[0mitems\u001b[0m\u001b[0;34m(\u001b[0m\u001b[0;34m)\u001b[0m\u001b[0;34m:\u001b[0m\u001b[0;34m\u001b[0m\u001b[0m\n\u001b[0m\u001b[1;32m      3\u001b[0m     \u001b[0;32mif\u001b[0m \u001b[0my\u001b[0m \u001b[0;34m%\u001b[0m \u001b[0;36m2\u001b[0m\u001b[0;34m:\u001b[0m\u001b[0;34m\u001b[0m\u001b[0m\n\u001b[1;32m      4\u001b[0m         \u001b[0;32mdel\u001b[0m \u001b[0mtestdict\u001b[0m\u001b[0;34m[\u001b[0m\u001b[0mx\u001b[0m\u001b[0;34m]\u001b[0m\u001b[0;34m\u001b[0m\u001b[0m\n\u001b[1;32m      5\u001b[0m \u001b[0mtestdict\u001b[0m\u001b[0;34m\u001b[0m\u001b[0m\n",
      "\u001b[0;31mRuntimeError\u001b[0m: dictionary changed size during iteration"
     ]
    }
   ],
   "source": [
    "# Cannot change size of dict during iteration\n",
    "testdict = dict(one=1, two=2, three=3, four=4, five=5, six=6, seven=7)\n",
    "for x,y in testdict.items():\n",
    "    if y % 2:\n",
    "        del testdict[x]\n",
    "testdict    "
   ]
  },
  {
   "cell_type": "code",
   "execution_count": null,
   "metadata": {},
   "outputs": [],
   "source": []
  }
 ],
 "metadata": {
  "kernelspec": {
   "display_name": "Python 3",
   "language": "python",
   "name": "python3"
  },
  "language_info": {
   "codemirror_mode": {
    "name": "ipython",
    "version": 3
   },
   "file_extension": ".py",
   "mimetype": "text/x-python",
   "name": "python",
   "nbconvert_exporter": "python",
   "pygments_lexer": "ipython3",
   "version": "3.5.2"
  }
 },
 "nbformat": 4,
 "nbformat_minor": 2
}
