{
 "cells": [
  {
   "cell_type": "markdown",
   "metadata": {},
   "source": [
    "# Python Modules dealing with date and time\n",
    "\n",
    "Python has three modules that deal with dates and times\n",
    "\n",
    "*    time - time-related functions from the underlying C library. It includes functions for retrieving the clock time and the processor run time, as well as basic parsing and string formatting tools.\n",
    "\n",
    "*    datetime - provides a higher level interface for date, time, and combined values. The classes in datetime support arithmetic, comparison, and time zone configuration.\n",
    "\n",
    "*    calendar - formatted representations of weeks, months, and years. It can also be used to compute recurring events, the day of the week for a given date, and other calendar-based values.\n",
    "\n"
   ]
  },
  {
   "cell_type": "markdown",
   "metadata": {},
   "source": [
    "## time\n",
    "\n",
    "This module works with C libraries and works with the various clocks of the system and the values are based in part on which Operating System you are using.\n",
    "\n",
    "The clocks that are used are;\n",
    "* wall clock - time that we normally use\n",
    "* monotonic - used for measuring elapsed time since it goes in one direction only\n",
    "* perf_counter - for measuring short time intervals\n",
    "* clock - CPU time\n",
    "* process_time - combination of processor and system time\n",
    "\n",
    "So first example is getting information on your system\n"
   ]
  },
  {
   "cell_type": "code",
   "execution_count": null,
   "metadata": {},
   "outputs": [],
   "source": [
    "# time_get_clock_info.py\n",
    "import textwrap\n",
    "import time\n",
    "\n",
    "available_clocks = [\n",
    "    ('clock', time.clock),\n",
    "    ('monotonic', time.monotonic),\n",
    "    ('perf_counter', time.perf_counter),\n",
    "    ('process_time', time.process_time),\n",
    "    ('time', time.time),\n",
    "]\n",
    "\n",
    "for clock_name, func in available_clocks:\n",
    "    print(textwrap.dedent('''\\\n",
    "    {name}:\n",
    "        adjustable    : {info.adjustable}\n",
    "        implementation: {info.implementation}\n",
    "        monotonic     : {info.monotonic}\n",
    "        resolution    : {info.resolution}\n",
    "        current       : {current}\n",
    "    ''').format(\n",
    "        name=clock_name,\n",
    "        info=time.get_clock_info(clock_name),\n",
    "        current=func())\n",
    "    )"
   ]
  },
  {
   "cell_type": "markdown",
   "metadata": {},
   "source": [
    "### Clocks\n",
    "#### Wall Clock time\n",
    "\n",
    "So now to get the wall clock time with a number of outputs:"
   ]
  },
  {
   "cell_type": "code",
   "execution_count": null,
   "metadata": {},
   "outputs": [],
   "source": [
    "# Wall_Clock_Time.py\n",
    "import time\n",
    "\n",
    "print('The time is:', time.time())\n",
    "print('The time is      :', time.ctime())\n",
    "later = time.time() + 15\n",
    "print('15 secs from now :', time.ctime(later))"
   ]
  },
  {
   "cell_type": "markdown",
   "metadata": {},
   "source": [
    "#### Monotonic Clocks\n",
    "\n",
    "Because time() looks at the system clock, and the system clock can be changed by the user or system services for synchronizing clocks across multiple computers, calling time() repeatedly may produce values that go forwards and backwards. This can result in unexpected behavior when trying to measure durations or otherwise use those times for computation. Avoid those situations by using monotonic(), which always returns values that go forward."
   ]
  },
  {
   "cell_type": "code",
   "execution_count": null,
   "metadata": {},
   "outputs": [],
   "source": [
    "# MonotonicTimeClock.py\n",
    "import time\n",
    "\n",
    "start = time.monotonic()\n",
    "time.sleep(0.1)\n",
    "end = time.monotonic()\n",
    "print('start : {:>9.2f}'.format(start))\n",
    "print('end   : {:>9.2f}'.format(end))\n",
    "print('span  : {:>9.2f}'.format(end - start))"
   ]
  },
  {
   "cell_type": "markdown",
   "metadata": {},
   "source": [
    "#### Processor Time Clock\n",
    "\n",
    "While time() returns wall clock time clock() returns processor time.\n",
    "\n",
    "#### Performance Time Clock\n",
    "\n",
    "It is important to have a high-resolution monotonic clock for measuring performance. Determining the best clock data source requires platform-specific knowledge, which Python provides in perf_counter().\n",
    "\n",
    "### Time Components\n",
    "Storing times as elapsed seconds is useful in some situations, but there are times when a program needs to have access to the individual fields of a date (year, month, etc.). The time module defines struct_time for holding date and time values with components broken out so they are easy to access. There are several functions that work with struct_time values instead of floats.\n",
    "\n",
    "With the struct we can work with various times like changing time zones or time difference and formatting time."
   ]
  },
  {
   "cell_type": "markdown",
   "metadata": {},
   "source": [
    "## datetime\n",
    "\n",
    "The datetime module includes functions and classes for doing date and time parsing, formatting, and arithmetic either seperately or together.\n",
    "\n",
    "### times\n",
    "### dates\n",
    "### Working with dates and times\n",
    "#### timedelta\n",
    "#### date arithmatic\n",
    "#### comparing values\n",
    "#### combining dates and times\n",
    "#### formatting  and parsing dates and times\n",
    "#### time zones\n",
    "\n",
    "**Note:**\n",
    "The third party module pytz is a better implementation for time zones. It supports named time zones, and the offset database is kept up to date as changes are made by political bodies around the world."
   ]
  },
  {
   "cell_type": "markdown",
   "metadata": {},
   "source": [
    "## calendar - working with dates\n",
    "\n",
    "The calendar module uses an idealized Gregorian calendar stretching forwards and backwards in time.  It does not work with other calendars such as Julian, Jewish and Asiatic calendars.  So converting from Gregorian to the Jewish calendar is left to the user.  Output is similar to the Unix cal program\n",
    "\n",
    "defines classes; Calendar, TextCalendar and HTMLCalendar\n",
    "\n",
    "A simple example below shows output from the Textcalendar and note it defaults to the European style with Monday being the first day fo the month.  To change it from Monday to Sunday change () to (calendar.SUNDAY)  It can also be set numerically with 0 being Monday and 6 for Sunday\n",
    "\n",
    "TextCalendar([first weekday])\n",
    "prmonth(year, month [date column width] [number of lines used])"
   ]
  },
  {
   "cell_type": "code",
   "execution_count": null,
   "metadata": {},
   "outputs": [],
   "source": [
    "# calendar_textcalendar.py\n",
    "import calendar\n",
    "\n",
    "c = calendar.TextCalendar()\n",
    "c.prmonth(2017, 7)"
   ]
  },
  {
   "cell_type": "markdown",
   "metadata": {},
   "source": [
    "Same example using the HTMLCalendar would look like:\n",
    "\n",
    "    HTMLCalendar([first weekday])\n",
    "    formatmonth(year, month [withyear=True])\n",
    "    \n",
    "    This produces a HTML table that can be further formatted with CSS styles"
   ]
  },
  {
   "cell_type": "code",
   "execution_count": null,
   "metadata": {},
   "outputs": [],
   "source": [
    "# calendar_htmlcalendar.py\n",
    "import calendar\n",
    "\n",
    "c = calendar.HTMLCalendar()\n",
    "c.formatmonth(2017, 7)"
   ]
  },
  {
   "cell_type": "markdown",
   "metadata": {},
   "source": [
    "Now that we have seen the table, here is what it looks like as HTML"
   ]
  },
  {
   "cell_type": "code",
   "execution_count": null,
   "metadata": {},
   "outputs": [],
   "source": [
    "# calendar_htmlcalendar.py\n",
    "import calendar\n",
    "from IPython.core.display import HTML\n",
    "\n",
    "c = calendar.HTMLCalendar()\n",
    "HTML(c.formatmonth(2017, 7))"
   ]
  },
  {
   "cell_type": "markdown",
   "metadata": {},
   "source": [
    "Okay we can now display the month and year but often we are using dates and times for conversion or showing meetings for people to remember.  As an example let us use meetings on the second Thursday of each month.\n"
   ]
  },
  {
   "cell_type": "code",
   "execution_count": null,
   "metadata": {},
   "outputs": [],
   "source": [
    "year = 2018"
   ]
  },
  {
   "cell_type": "code",
   "execution_count": null,
   "metadata": {},
   "outputs": [],
   "source": [
    "# calendar_secondthursday.py\n",
    "import calendar\n",
    "import sys\n",
    "\n",
    "# year =  int(sys.argv[1])\n",
    "\n",
    "# Show every month\n",
    "for month in range(1, 13):\n",
    "\n",
    "    # Compute the dates for each week that overlaps the month\n",
    "    c = calendar.monthcalendar(year, month)\n",
    "    first_week = c[0]\n",
    "    second_week = c[1]\n",
    "    third_week = c[2]\n",
    "\n",
    "    # If there is a Thursday in the first week,\n",
    "    # the second Thursday is # in the second week.\n",
    "    # Otherwise, the second Thursday must be in\n",
    "    # the third week.\n",
    "    if first_week[calendar.THURSDAY]:\n",
    "        meeting_date = second_week[calendar.THURSDAY]\n",
    "    else:\n",
    "        meeting_date = third_week[calendar.THURSDAY]\n",
    "\n",
    "    print('{:>3}: {:>2}'.format(calendar.month_abbr[month],\n",
    "                                meeting_date))"
   ]
  },
  {
   "cell_type": "markdown",
   "metadata": {},
   "source": [
    "These printout and displays can be adjusted using locale.  Here we use 'en_US' but that is only one of a number of values that can be utilized."
   ]
  },
  {
   "cell_type": "code",
   "execution_count": null,
   "metadata": {},
   "outputs": [],
   "source": []
  }
 ],
 "metadata": {
  "kernelspec": {
   "display_name": "Python 3",
   "language": "python",
   "name": "python3"
  },
  "language_info": {
   "codemirror_mode": {
    "name": "ipython",
    "version": 3
   },
   "file_extension": ".py",
   "mimetype": "text/x-python",
   "name": "python",
   "nbconvert_exporter": "python",
   "pygments_lexer": "ipython3",
   "version": "3.6.6"
  }
 },
 "nbformat": 4,
 "nbformat_minor": 2
}
